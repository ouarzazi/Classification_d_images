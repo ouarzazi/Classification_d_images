{
 "cells": [
  {
   "cell_type": "markdown",
   "metadata": {},
   "source": [
    "On charge les biblio "
   ]
  },
  {
   "cell_type": "code",
   "execution_count": 28,
   "metadata": {},
   "outputs": [],
   "source": [
    "import os \n",
    "# os.environ['CUDA_VISIBLE_DEVICES'] = '-1'\n",
    "import tensorflow as tf\n",
    "import matplotlib.pyplot as plt \n",
    "from tensorflow.keras import layers, models\n",
    "from tensorflow.keras.models import load_model"
   ]
  },
  {
   "cell_type": "markdown",
   "metadata": {},
   "source": [
    "Chargement de l'ensemble de données MNIST"
   ]
  },
  {
   "cell_type": "code",
   "execution_count": 29,
   "metadata": {},
   "outputs": [],
   "source": [
    "(train_images, train_labels), (test_images, test_labels) = tf.keras.datasets.mnist.load_data()"
   ]
  },
  {
   "cell_type": "code",
   "execution_count": 47,
   "metadata": {},
   "outputs": [
    {
     "data": {
      "text/plain": [
       "60000"
      ]
     },
     "execution_count": 47,
     "metadata": {},
     "output_type": "execute_result"
    }
   ],
   "source": [
    "len(train_images)"
   ]
  },
  {
   "cell_type": "code",
   "execution_count": 30,
   "metadata": {},
   "outputs": [],
   "source": [
    "# train_images = train_images[:10]\n",
    "# train_labels = train_labels[:10]\n",
    "# test_images = test_images[:10]\n",
    "# test_labels = test_labels[:10]"
   ]
  },
  {
   "cell_type": "markdown",
   "metadata": {},
   "source": [
    "Structure de notre data et affichage de la première image d'entraînement"
   ]
  },
  {
   "cell_type": "code",
   "execution_count": 31,
   "metadata": {},
   "outputs": [
    {
     "name": "stdout",
     "output_type": "stream",
     "text": [
      "Nombre d'images d'entraînement: 60000\n",
      "Nombre d'images de test: 10000\n",
      "Forme d'une image d'entraînement: (28, 28)\n",
      "Étiquette d'une image d'entraînement: 5\n"
     ]
    },
    {
     "data": {
      "image/png": "[encoded data removed]",
      "text/plain": [
       "<Figure size 640x480 with 2 Axes>"
      ]
     },
     "metadata": {},
     "output_type": "display_data"
    }
   ],
   "source": [
    "print(\"Nombre d'images d'entraînement:\", len(train_images))\n",
    "print(\"Nombre d'images de test:\", len(test_images))\n",
    "print(\"Forme d'une image d'entraînement:\", train_images[0].shape)\n",
    "print(\"Étiquette d'une image d'entraînement:\", train_labels[0])\n",
    "plt.figure()\n",
    "plt.imshow(train_images[0], cmap='gray')\n",
    "plt.colorbar()\n",
    "plt.grid(False)\n",
    "plt.show()"
   ]
  },
  {
   "cell_type": "markdown",
   "metadata": {},
   "source": [
    "Normalisation de la taille des images ([0:255]-> [0,1])"
   ]
  },
  {
   "cell_type": "code",
   "execution_count": 32,
   "metadata": {},
   "outputs": [],
   "source": [
    "train_images = train_images / 255.0\n",
    "test_images = test_images / 255.0"
   ]
  },
  {
   "cell_type": "markdown",
   "metadata": {},
   "source": [
    "On définit notre modèle CNN"
   ]
  },
  {
   "cell_type": "code",
   "execution_count": 33,
   "metadata": {},
   "outputs": [],
   "source": [
    "# model = models.Sequential([\n",
    "#     # Couche de convolution 2D avec 32 filtres, une taille de fenêtre de 3x3 et une fonction d'activation ReLU\n",
    "#     layers.Conv2D(16, (3, 3), activation='relu', input_shape=(28, 28, 1)),\n",
    "#     # Couche de pooling avec une taille de fenêtre de 2x2\n",
    "#     layers.Dense(10, activation='softmax')\n",
    "# ])"
   ]
  },
  {
   "cell_type": "code",
   "execution_count": 34,
   "metadata": {},
   "outputs": [],
   "source": [
    "model = models.Sequential([\n",
    "    # Couche de convolution 2D avec 32 filtres, une taille de fenêtre de 3x3 et une fonction d'activation ReLU\n",
    "    layers.Conv2D(32, (3, 3), activation='relu', input_shape=(28, 28, 1)),\n",
    "    # Couche de pooling avec une taille de fenêtre de 2x2\n",
    "    layers.MaxPooling2D((2, 2)),\n",
    "    # Couche de convolution 2D avec 64 filtres et une fonction d'activation ReLU\n",
    "    layers.Conv2D(64, (3, 3), activation='relu'),\n",
    "    # Couche de pooling avec une taille de fenêtre de 2x2\n",
    "    layers.MaxPooling2D((2, 2)),\n",
    "    # Couche de flattening pour aplatir la sortie en un vecteur\n",
    "    layers.Flatten(),\n",
    "    # Couche dense avec 64 neurones et une fonction d'activation ReLU\n",
    "    layers.Dense(64, activation='relu'),\n",
    "    # Couche de sortie avec 10 neurones (un pour chaque classe) et une fonction d'activation softmax\n",
    "    layers.Dense(10, activation='softmax')\n",
    "])"
   ]
  },
  {
   "cell_type": "markdown",
   "metadata": {},
   "source": [
    "Compilation du modèle"
   ]
  },
  {
   "cell_type": "code",
   "execution_count": 35,
   "metadata": {},
   "outputs": [],
   "source": [
    "model.compile(optimizer='adam',\n",
    "              loss='sparse_categorical_crossentropy',\n",
    "              metrics=['accuracy'])"
   ]
  },
  {
   "cell_type": "markdown",
   "metadata": {},
   "source": [
    "\n",
    "\n",
    "Entraînement du modèle"
   ]
  },
  {
   "cell_type": "code",
   "execution_count": 37,
   "metadata": {},
   "outputs": [
    {
     "name": "stdout",
     "output_type": "stream",
     "text": [
      "Epoch 1/5\n",
      "1875/1875 [==============================] - 9s 5ms/step - loss: 0.0150 - accuracy: 0.9953 - val_loss: 0.0328 - val_accuracy: 0.9910\n",
      "Epoch 2/5\n",
      "1875/1875 [==============================] - 10s 5ms/step - loss: 0.0112 - accuracy: 0.9962 - val_loss: 0.0368 - val_accuracy: 0.9893\n",
      "Epoch 3/5\n",
      "1875/1875 [==============================] - 9s 5ms/step - loss: 0.0097 - accuracy: 0.9966 - val_loss: 0.0303 - val_accuracy: 0.9907\n",
      "Epoch 4/5\n",
      "1875/1875 [==============================] - 9s 5ms/step - loss: 0.0068 - accuracy: 0.9977 - val_loss: 0.0455 - val_accuracy: 0.9900\n",
      "Epoch 5/5\n",
      "1875/1875 [==============================] - 9s 5ms/step - loss: 0.0072 - accuracy: 0.9977 - val_loss: 0.0340 - val_accuracy: 0.9913\n"
     ]
    },
    {
     "data": {
      "text/plain": [
       "<keras.src.callbacks.History at 0x7fb7100d2510>"
      ]
     },
     "execution_count": 37,
     "metadata": {},
     "output_type": "execute_result"
    }
   ],
   "source": [
    "model.fit(train_images.reshape(-1, 28, 28, 1), train_labels, epochs=5, validation_data=(test_images.reshape(-1, 28, 28, 1), test_labels))\n"
   ]
  },
  {
   "cell_type": "code",
   "execution_count": 38,
   "metadata": {},
   "outputs": [
    {
     "name": "stdout",
     "output_type": "stream",
     "text": [
      "Aucun GPU disponible. TensorFlow utilise le CPU.\n"
     ]
    }
   ],
   "source": [
    "import tensorflow as tf\n",
    "\n",
    "# Vérifiez si une GPU est disponible\n",
    "if tf.config.list_physical_devices('GPU'):\n",
    "    print(\"GPU est disponible et activé.\")\n",
    "else:\n",
    "    print(\"Aucun GPU disponible. TensorFlow utilise le CPU.\")\n"
   ]
  },
  {
   "cell_type": "markdown",
   "metadata": {},
   "source": [
    "Évaluation du modèle"
   ]
  },
  {
   "cell_type": "code",
   "execution_count": 39,
   "metadata": {},
   "outputs": [
    {
     "name": "stdout",
     "output_type": "stream",
     "text": [
      "313/313 - 1s - loss: 0.0340 - accuracy: 0.9913 - 564ms/epoch - 2ms/step\n",
      "\n",
      "Accuracy on test data: 0.9912999868392944\n"
     ]
    }
   ],
   "source": [
    "test_loss, test_acc = model.evaluate(test_images.reshape(-1, 28, 28, 1),  test_labels, verbose=2)\n",
    "print('\\nAccuracy on test data:', test_acc)"
   ]
  },
  {
   "cell_type": "code",
   "execution_count": 40,
   "metadata": {},
   "outputs": [
    {
     "name": "stderr",
     "output_type": "stream",
     "text": [
      "/home/simedtak/Desktop/projects/IA/Classification_d_images/env311/lib/python3.11/site-packages/keras/src/engine/training.py:3000: UserWarning: You are saving your model as an HDF5 file via `model.save()`. This file format is considered legacy. We recommend using instead the native Keras format, e.g. `model.save('my_model.keras')`.\n",
      "  saving_api.save_model(\n"
     ]
    }
   ],
   "source": [
    "model.save('my_model.h5')\n",
    "loaded_model = load_model('my_model.h5')"
   ]
  },
  {
   "cell_type": "markdown",
   "metadata": {},
   "source": [
    "Prediction de l'image"
   ]
  },
  {
   "cell_type": "code",
   "execution_count": 50,
   "metadata": {},
   "outputs": [
    {
     "name": "stdout",
     "output_type": "stream",
     "text": [
      "WARNING:tensorflow:6 out of the last 6 calls to <function Model.make_predict_function.<locals>.predict_function at 0x7fb79e76a0c0> triggered tf.function retracing. Tracing is expensive and the excessive number of tracings could be due to (1) creating @tf.function repeatedly in a loop, (2) passing tensors with different shapes, (3) passing Python objects instead of tensors. For (1), please define your @tf.function outside of the loop. For (2), @tf.function has reduce_retracing=True option that can avoid unnecessary retracing. For (3), please refer to https://www.tensorflow.org/guide/function#controlling_retracing and https://www.tensorflow.org/api_docs/python/tf/function for  more details.\n",
      "1/1 [==============================] - 0s 40ms/step\n",
      "Classe prédite : 9 (9)\n"
     ]
    }
   ],
   "source": [
    "import tensorflow as tf\n",
    "import numpy as np\n",
    "from PIL import Image\n",
    "\n",
    "# Charger le modèle pré-entraîné\n",
    "loaded_model = tf.keras.models.load_model('my_model.h5')\n",
    "\n",
    "# Chemin vers la nouvelle image\n",
    "new_image_path = 'Images_to_predict/4.png'\n",
    "\n",
    "# Ouvrir l'image avec PIL (Pillow)\n",
    "new_image = Image.open(new_image_path)\n",
    "\n",
    "# Redimensionner l'image à 28x28 pixels\n",
    "new_image = new_image.resize((28, 28))\n",
    "\n",
    "# Convertir l'image en niveaux de gris (si elle ne l'est pas déjà)\n",
    "new_image = new_image.convert('L')\n",
    "\n",
    "new_image.show()\n",
    "\n",
    "# Convertir l'image en tableau NumPy\n",
    "new_image_array = np.array(new_image)\n",
    "\n",
    "# Normaliser les valeurs de pixels\n",
    "new_image_array = new_image_array.astype('float32') / 255.0\n",
    "\n",
    "# Redimensionner pour correspondre à la forme d'entrée du modèle\n",
    "new_image_array = new_image_array.reshape(1, 28, 28, 1)\n",
    "\n",
    "# Faire des prédictions sur la nouvelle image\n",
    "predictions = loaded_model.predict(new_image_array)\n",
    "\n",
    "# Trouver la classe prédite\n",
    "predicted_class = np.argmax(predictions)\n",
    "\n",
    "# Assumant que 'class_labels' est une liste d'étiquettes de classe\n",
    "class_labels = ['0', '1', '2', '3', '4', '5', '6', '7', '8', '9']\n",
    "\n",
    "# Mapper la classe prédite à une étiquette\n",
    "predicted_label = class_labels[predicted_class]\n",
    "\n",
    "print(f'Classe prédite : {predicted_class} ({predicted_label})')\n"
   ]
  },
  {
   "cell_type": "code",
   "execution_count": null,
   "metadata": {},
   "outputs": [],
   "source": []
  }
 ],
 "metadata": {
  "kernelspec": {
   "display_name": "Python 3 (ipykernel)",
   "language": "python",
   "name": "python3"
  },
  "language_info": {
   "codemirror_mode": {
    "name": "ipython",
    "version": 3
   },
   "file_extension": ".py",
   "mimetype": "text/x-python",
   "name": "python",
   "nbconvert_exporter": "python",
   "pygments_lexer": "ipython3",
   "version": "3.11.0rc1"
  }
 },
 "nbformat": 4,
 "nbformat_minor": 4
}
