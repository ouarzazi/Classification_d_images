{
 "cells": [
  {
   "cell_type": "markdown",
   "metadata": {},
   "source": [
    "On charge les biblio "
   ]
  },
  {
   "cell_type": "code",
   "execution_count": null,
   "metadata": {},
   "outputs": [],
   "source": [
    "import os \n",
    "os.environ['CUDA_VISIBLE_DEVICES'] = '-1'\n",
    "import tensorflow as tf\n",
    "import matplotlib.pyplot as plt \n",
    "from tensorflow.keras import layers, models\n",
    "from tensorflow.keras.models import load_model"
   ]
  },
  {
   "cell_type": "markdown",
   "metadata": {},
   "source": [
    "Chargement de l'ensemble de données MNIST"
   ]
  },
  {
   "cell_type": "code",
   "execution_count": null,
   "metadata": {},
   "outputs": [],
   "source": [
    "(train_images, train_labels), (test_images, test_labels) = tf.keras.datasets.mnist.load_data()"
   ]
  },
  {
   "cell_type": "markdown",
   "metadata": {},
   "source": [
    "Structure de notre data et affichage de la première image d'entraînement"
   ]
  },
  {
   "cell_type": "code",
   "execution_count": null,
   "metadata": {},
   "outputs": [],
   "source": [
    "print(\"Nombre d'images d'entraînement:\", len(train_images))\n",
    "print(\"Nombre d'images de test:\", len(test_images))\n",
    "print(\"Forme d'une image d'entraînement:\", train_images[0].shape)\n",
    "print(\"Étiquette d'une image d'entraînement:\", train_labels[0])\n",
    "plt.figure()\n",
    "plt.imshow(train_images[0], cmap='gray')\n",
    "plt.colorbar()\n",
    "plt.grid(False)\n",
    "plt.show()"
   ]
  },
  {
   "cell_type": "markdown",
   "metadata": {},
   "source": [
    "Normalisation de la taille des images ([0:255]-> [0,1])"
   ]
  },
  {
   "cell_type": "code",
   "execution_count": null,
   "metadata": {},
   "outputs": [],
   "source": [
    "train_images = train_images / 255.0\n",
    "test_images = test_images / 255.0"
   ]
  },
  {
   "cell_type": "markdown",
   "metadata": {},
   "source": [
    "On définit notre modèle CNN"
   ]
  },
  {
   "cell_type": "code",
   "execution_count": null,
   "metadata": {},
   "outputs": [],
   "source": [
    "model = models.Sequential([\n",
    "    # Couche de convolution 2D avec 32 filtres, une taille de fenêtre de 3x3 et une fonction d'activation ReLU\n",
    "    layers.Conv2D(32, (3, 3), activation='relu', input_shape=(28, 28, 1)),\n",
    "    # Couche de pooling avec une taille de fenêtre de 2x2\n",
    "    layers.MaxPooling2D((2, 2)),\n",
    "    # Couche de convolution 2D avec 64 filtres et une fonction d'activation ReLU\n",
    "    layers.Conv2D(64, (3, 3), activation='relu'),\n",
    "    # Couche de pooling avec une taille de fenêtre de 2x2\n",
    "    layers.MaxPooling2D((2, 2)),\n",
    "    # Couche de flattening pour aplatir la sortie en un vecteur\n",
    "    layers.Flatten(),\n",
    "    # Couche dense avec 64 neurones et une fonction d'activation ReLU\n",
    "    layers.Dense(64, activation='relu'),\n",
    "    # Couche de sortie avec 10 neurones (un pour chaque classe) et une fonction d'activation softmax\n",
    "    layers.Dense(10, activation='softmax')\n",
    "])"
   ]
  },
  {
   "cell_type": "markdown",
   "metadata": {},
   "source": [
    "Compilation du modèle"
   ]
  },
  {
   "cell_type": "code",
   "execution_count": null,
   "metadata": {},
   "outputs": [],
   "source": [
    "model.compile(optimizer='adam',\n",
    "              loss='sparse_categorical_crossentropy',\n",
    "              metrics=['accuracy'])"
   ]
  },
  {
   "cell_type": "markdown",
   "metadata": {},
   "source": [
    "\n",
    "\n",
    "Entraînement du modèle"
   ]
  },
  {
   "cell_type": "code",
   "execution_count": null,
   "metadata": {},
   "outputs": [],
   "source": [
    "model.fit(train_images.reshape(-1, 28, 28, 1), train_labels, batch_size=1,epochs=5, validation_data=(test_images.reshape(-1, 28, 28, 1), test_labels))\n"
   ]
  },
  {
   "cell_type": "code",
   "execution_count": null,
   "metadata": {},
   "outputs": [],
   "source": [
    "import tensorflow as tf\n",
    "\n",
    "# Vérifiez si une GPU est disponible\n",
    "if tf.config.list_physical_devices('GPU'):\n",
    "    print(\"GPU est disponible et activé.\")\n",
    "else:\n",
    "    print(\"Aucun GPU disponible. TensorFlow utilise le CPU.\")\n"
   ]
  },
  {
   "cell_type": "markdown",
   "metadata": {},
   "source": [
    "Évaluation du modèle"
   ]
  },
  {
   "cell_type": "code",
   "execution_count": null,
   "metadata": {},
   "outputs": [],
   "source": [
    "test_loss, test_acc = model.evaluate(test_images.reshape(-1, 28, 28, 1),  test_labels, verbose=2)\n",
    "print('\\nAccuracy on test data:', test_acc)"
   ]
  },
  {
   "cell_type": "code",
   "execution_count": null,
   "metadata": {},
   "outputs": [],
   "source": [
    "model.save('my_model.h5')\n",
    "loaded_model = load_model('my_model.h5')"
   ]
  },
  {
   "cell_type": "markdown",
   "metadata": {},
   "source": [
    "Prediction de l'image"
   ]
  },
  {
   "cell_type": "code",
   "execution_count": null,
   "metadata": {},
   "outputs": [],
   "source": [
    "import tensorflow as tf\n",
    "import numpy as np\n",
    "from PIL import Image\n",
    "\n",
    "# Charger le modèle pré-entraîné\n",
    "loaded_model = tf.keras.models.load_model('C:\\\\Users\\\\moham\\\\OneDrive\\\\Bureau\\\\Projects\\\\IA\\\\Classification_d_images\\\\my_model.h5')\n",
    "\n",
    "# Chemin vers la nouvelle image\n",
    "new_image_path = 'C:\\\\Users\\\\moham\\\\OneDrive\\\\Bureau\\\\Projects\\\\IA\\\\Classification_d_images\\\\Images_to_predict\\\\1.png'\n",
    "\n",
    "# Ouvrir l'image avec PIL (Pillow)\n",
    "new_image = Image.open(new_image_path)\n",
    "\n",
    "# Redimensionner l'image à 28x28 pixels\n",
    "new_image = new_image.resize((28, 28))\n",
    "\n",
    "# Convertir l'image en niveaux de gris (si elle ne l'est pas déjà)\n",
    "new_image = new_image.convert('L')\n",
    "\n",
    "# Convertir l'image en tableau NumPy\n",
    "new_image_array = np.array(new_image)\n",
    "\n",
    "# Normaliser les valeurs de pixels\n",
    "new_image_array = new_image_array.astype('float32') / 255.0\n",
    "\n",
    "# Redimensionner pour correspondre à la forme d'entrée du modèle\n",
    "new_image_array = new_image_array.reshape(1, 28, 28, 1)\n",
    "\n",
    "# Faire des prédictions sur la nouvelle image\n",
    "predictions = loaded_model.predict(new_image_array)\n",
    "\n",
    "# Trouver la classe prédite\n",
    "predicted_class = np.argmax(predictions)\n",
    "\n",
    "# Assumant que 'class_labels' est une liste d'étiquettes de classe\n",
    "class_labels = ['0', '1', '2', '3', '4', '5', '6', '7', '8', '9']\n",
    "\n",
    "# Mapper la classe prédite à une étiquette\n",
    "predicted_label = class_labels[predicted_class]\n",
    "\n",
    "print(f'Classe prédite : {predicted_class} ({predicted_label})')\n"
   ]
  }
 ],
 "metadata": {
  "kernelspec": {
   "display_name": "Python 3 (ipykernel)",
   "language": "python",
   "name": "python3"
  },
  "language_info": {
   "codemirror_mode": {
    "name": "ipython",
    "version": 3
   },
   "file_extension": ".py",
   "mimetype": "text/x-python",
   "name": "python",
   "nbconvert_exporter": "python",
   "pygments_lexer": "ipython3",
   "version": "3.10.12"
  }
 },
 "nbformat": 4,
 "nbformat_minor": 4
}
